{
 "cells": [
  {
   "cell_type": "code",
   "execution_count": null,
   "id": "3843c206",
   "metadata": {},
   "outputs": [],
   "source": [
    "from pytorch_forecasting import TemporalFusionTransformer\n",
    "from pytorch_lightning import Trainer\n",
    "from pytorch_lightning.callbacks import EarlyStopping, LearningRateMonitor\n",
    "from pytorch_forecasting.metrics import RMSE\n",
    "import pandas as pd \n",
    "import numpy as np\n",
    "from pytorch_forecasting import TimeSeriesDataSet\n",
    "import holidays\n"
   ]
  },
  {
   "cell_type": "code",
   "execution_count": null,
   "id": "716df8ce",
   "metadata": {},
   "outputs": [],
   "source": [
    "# 1. Charger et nettoyer\n",
    "df = pd.read_csv(\"/home/jathur/Bureau/Projects/TeleFinance/data/raw/History.csv\")\n",
    "df[\"Date\"] = pd.to_datetime(df[\"Date\"])\n",
    "# 2. Trier proprement\n",
    "df = df.sort_values([\"Date\", \"ticket\"]).reset_index(drop=True)\n",
    "# 3. Créer un time index global\n",
    "df[\"time_idx\"] = df[\"Date\"].rank(method=\"dense\").astype(int)\n",
    "# 4. (optionnel) vérifier la couverture par ticket\n",
    "print(df.groupby(\"ticket\")[\"time_idx\"].agg([\"min\", \"max\", \"count\"]))"
   ]
  },
  {
   "cell_type": "code",
   "execution_count": null,
   "id": "9d1ac246",
   "metadata": {},
   "outputs": [],
   "source": [
    "\n",
    "# Générer les jours fériés français\n",
    "french_holidays = holidays.France(years=df[\"Date\"].dt.year.unique())\n",
    "# Si tu as aussi des actions US\n",
    "us_holidays = holidays.US(years=df[\"Date\"].dt.year.unique())\n",
    "# Ajouter une colonne pays (ex: en te basant sur le suffixe du ticket)\n",
    "df[\"market\"] = df[\"ticket\"].apply(lambda x: \"FR\" if x.endswith(\".PA\") else \"US\")\n",
    "\n",
    "# Ajouter colonne is_holiday en fonction du pays\n",
    "def is_market_holiday(row):\n",
    "    date = row[\"Date\"].date()\n",
    "    if row[\"market\"] == \"FR\":\n",
    "        return date in french_holidays\n",
    "    elif row[\"market\"] == \"US\":\n",
    "        return date in us_holidays\n",
    "    return False\n",
    "\n",
    "df[\"is_holiday\"] = df.apply(is_market_holiday, axis=1)\n"
   ]
  },
  {
   "cell_type": "code",
   "execution_count": null,
   "id": "4e8c890f",
   "metadata": {},
   "outputs": [],
   "source": [
    "# Assurer un time_idx propre\n",
    "full_df = df.copy()\n",
    "full_df[\"time_idx\"] = full_df.groupby(\"ticket\").cumcount()\n",
    "\n",
    "# Filtrer les groupes suffisamment longs\n",
    "min_len = 90\n",
    "valid_tickets = full_df.groupby(\"ticket\").filter(lambda x: len(x) >= min_len)[\"ticket\"].unique()\n",
    "\n",
    "filtered_df = full_df[full_df[\"ticket\"].isin(valid_tickets)]\n",
    "\n",
    "# Split : les 90 derniers points pour chaque série\n",
    "val_df = filtered_df.groupby(\"ticket\").tail(min_len)\n",
    "train_df = filtered_df.drop(val_df.index)\n"
   ]
  },
  {
   "cell_type": "code",
   "execution_count": null,
   "id": "6168c684",
   "metadata": {},
   "outputs": [],
   "source": [
    "dataset_params = dict(\n",
    "    time_idx=\"time_idx\",\n",
    "    target=\"Close\",\n",
    "    group_ids=[\"ticket\"],\n",
    "    max_encoder_length=max_encoder_length,\n",
    "    max_prediction_length=max_prediction_length,\n",
    "    time_varying_known_reals=[\"time_idx\"],\n",
    "    time_varying_unknown_reals=[\"Close\", \"Volume\"],\n",
    "    allow_missing_timesteps=True\n",
    ")"
   ]
  },
  {
   "cell_type": "code",
   "execution_count": null,
   "id": "4df5a2c7",
   "metadata": {},
   "outputs": [],
   "source": [
    "train_dataset = TimeSeriesDataSet(train_df, **dataset_params)\n",
    "val_dataset = TimeSeriesDataSet(val_df, **dataset_params)\n"
   ]
  },
  {
   "cell_type": "code",
   "execution_count": null,
   "id": "01405734",
   "metadata": {},
   "outputs": [],
   "source": [
    "print(\"Train dataset:\", len(train_dataset))\n",
    "print(\"Val dataset:\", len(val_dataset))\n"
   ]
  },
  {
   "cell_type": "code",
   "execution_count": null,
   "id": "ddaae471",
   "metadata": {},
   "outputs": [],
   "source": [
    "train_loader = train_dataset.to_dataloader(train=True, batch_size=64)\n",
    "val_loader = val_dataset.to_dataloader(train=False, batch_size=64)\n"
   ]
  },
  {
   "cell_type": "code",
   "execution_count": null,
   "id": "9904adaf",
   "metadata": {},
   "outputs": [],
   "source": [
    "    "
   ]
  },
  {
   "cell_type": "code",
   "execution_count": null,
   "id": "8f627479",
   "metadata": {},
   "outputs": [],
   "source": [
    "from pytorch_lightning import Trainer\n",
    "from pytorch_lightning.callbacks import EarlyStopping, LearningRateMonitor\n",
    "\n",
    "trainer = Trainer(\n",
    "    max_epochs=20,\n",
    "    accelerator=\"auto\",  # ou \"cpu\" si tu ne veux pas laisser gérer automatiquement\n",
    "    callbacks=[\n",
    "        EarlyStopping(monitor=\"val_loss\", patience=3),\n",
    "        LearningRateMonitor(logging_interval=\"epoch\")\n",
    "    ]\n",
    ")\n"
   ]
  },
  {
   "cell_type": "code",
   "execution_count": null,
   "id": "4f553f37",
   "metadata": {},
   "outputs": [],
   "source": [
    "trainer.fit(\n",
    "    model=tft,\n",
    "    train_dataloaders=train_loader,\n",
    "    val_dataloaders=val_loader\n",
    ")\n"
   ]
  },
  {
   "cell_type": "code",
   "execution_count": null,
   "id": "3d409c90",
   "metadata": {},
   "outputs": [],
   "source": []
  }
 ],
 "metadata": {
  "kernelspec": {
   "display_name": ".venv",
   "language": "python",
   "name": "python3"
  },
  "language_info": {
   "codemirror_mode": {
    "name": "ipython",
    "version": 3
   },
   "file_extension": ".py",
   "mimetype": "text/x-python",
   "name": "python",
   "nbconvert_exporter": "python",
   "pygments_lexer": "ipython3",
   "version": "3.13.3"
  }
 },
 "nbformat": 4,
 "nbformat_minor": 5
}
