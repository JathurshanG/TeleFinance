{
 "cells": [
  {
   "cell_type": "code",
   "execution_count": 14,
   "metadata": {},
   "outputs": [],
   "source": [
    "import pandas as pd\n",
    "import yfinance as yf\n"
   ]
  },
  {
   "cell_type": "code",
   "execution_count": 80,
   "metadata": {},
   "outputs": [],
   "source": [
    "data = pd.read_csv('/home/jathur/Bureau/Projects/TeleFinance/files/ActualAsset.csv')\n",
    "data['date'] = pd.to_datetime(data['date'])"
   ]
  },
  {
   "cell_type": "code",
   "execution_count": null,
   "metadata": {},
   "outputs": [],
   "source": [
    "data[\"date\"] = pd.to_datetime(data['date'])        \n",
    "allHistorical =[]\n",
    "for i,idx in enumerate(data['asset']):\n",
    "            ticker = yf.Ticker(idx)\n",
    "            hist = ticker.history(start=data['date'][i]).reset_index()\n",
    "            hist = hist[['Date','Close']]\n",
    "            hist['ticket'] = idx\n",
    "            hist['Date'] = hist['Date'].dt.date\n",
    "            hist.loc[hist['Date']==data['date'][i]]\n",
    "            allHistorical.append(hist)\n",
    "allHistorical = pd.concat(allHistorical,ignore_index=True)"
   ]
  }
 ],
 "metadata": {
  "kernelspec": {
   "display_name": ".venv",
   "language": "python",
   "name": "python3"
  },
  "language_info": {
   "codemirror_mode": {
    "name": "ipython",
    "version": 3
   },
   "file_extension": ".py",
   "mimetype": "text/x-python",
   "name": "python",
   "nbconvert_exporter": "python",
   "pygments_lexer": "ipython3",
   "version": "3.13.2"
  }
 },
 "nbformat": 4,
 "nbformat_minor": 2
}
